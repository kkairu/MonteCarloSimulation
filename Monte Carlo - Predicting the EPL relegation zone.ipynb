{
 "cells": [
  {
   "cell_type": "markdown",
   "metadata": {},
   "source": [
    "# Predicting the EPL relegation zone Using Monte Carlo Simulation.\n",
    "\n",
    "- Use mathematical model (**Maher model**) to predict which teams will end up relegated\n",
    "- Model assumes goals scored in each game by the home and away team are **independent variables** and can be modelled by a **Poisson distribution** where the expected number of goals scored by a team depends on a combination of their **attacking strength and the opposing teams defending strength.** \n",
    "- Teams are given a small **home advantage.**\n",
    "\n",
    "**DATA SOURCE** - https://www.football-data.co.uk/englandm.php\n",
    "\n",
    "Limitations of the Maher model:\n",
    "- Independence assumptions are not totally correct, events at one of the pitch clearly impacts the other.\n",
    "- Hot or cold streaks seem to be a result of many factors including team morale and are not just artefacts of a random process.\n",
    "- Model assumes a teams attacking and defending strength is constant throughout the course of a season.\n",
    "- Model has no way of forecasting ‘black swan’ events such as an injury to a key player or a team being docked points for match fixing."
   ]
  },
  {
   "cell_type": "code",
   "execution_count": 1,
   "metadata": {
    "ExecuteTime": {
     "end_time": "2020-02-17T12:21:16.687047Z",
     "start_time": "2020-02-17T12:21:15.403135Z"
    }
   },
   "outputs": [],
   "source": [
    "import pandas as pd\n",
    "import numpy as np\n",
    "\n",
    "from math import factorial\n",
    "from itertools import product as cart_product\n",
    "\n",
    "import seaborn as sns\n",
    "import matplotlib.pyplot as plt\n",
    "%matplotlib inline"
   ]
  },
  {
   "cell_type": "code",
   "execution_count": 2,
   "metadata": {
    "ExecuteTime": {
     "end_time": "2020-02-17T12:21:16.711060Z",
     "start_time": "2020-02-17T12:21:16.689058Z"
    }
   },
   "outputs": [],
   "source": [
    "# Calculate optimal alpha, beta & gamma\n",
    "# ----------------------------------------------------------------------------------------------------------------------------\n",
    "\n",
    "def optimise_params(df, threshold = 1e-10):\n",
    "    \n",
    "    alpha, beta = {}, {}\n",
    "    gamma = 1.0\n",
    "    \n",
    "    for team in df.HomeTeam.unique():\n",
    "        alpha[team] = 1.0\n",
    "        beta[team] = 1.0\n",
    "        \n",
    "    old = np.zeros(len(alpha)+len(beta)+1)\n",
    "    while np.abs(np.array(list(alpha.values()) + list(beta.values()) + [gamma]) - old).max() > threshold:\n",
    "        old = np.array(list(alpha.values()) + list(beta.values()) + [gamma])\n",
    "        \n",
    "        denom = 0\n",
    "        \n",
    "        for index, row in df.iterrows():\n",
    "            denom += alpha[row.HomeTeam]*beta[row.AwayTeam]\n",
    "        gamma = df.FTHG.sum()/denom\n",
    "        \n",
    "        for team in df.HomeTeam.unique():\n",
    "            away_teams = df[df.HomeTeam == team].AwayTeam\n",
    "            home_teams = df[df.AwayTeam == team].HomeTeam\n",
    "            \n",
    "            alpha[team] = (\n",
    "                    (df[df.HomeTeam == team].FTHG.sum() + df[df.AwayTeam == team].FTAG.sum()) \n",
    "                     /(gamma * np.sum([beta[x] for x in away_teams]) + np.sum([beta[x] for x in home_teams]))\n",
    "                        )\n",
    "            beta[team] = (\n",
    "                    (df[df.AwayTeam == team].FTHG.sum() + df[df.HomeTeam == team].FTAG.sum()) \n",
    "                     /(gamma * np.sum([alpha[x] for x in home_teams]) + np.sum([alpha[x] for x in away_teams]))\n",
    "                        )\n",
    "            \n",
    "    return alpha, beta, gamma"
   ]
  },
  {
   "cell_type": "code",
   "execution_count": 3,
   "metadata": {
    "ExecuteTime": {
     "end_time": "2020-02-17T12:21:16.734098Z",
     "start_time": "2020-02-17T12:21:16.717063Z"
    }
   },
   "outputs": [],
   "source": [
    "# Likelihood\n",
    "# ----------------------------------------------------------------------------------------------------------------------------\n",
    "\n",
    "def log_likelihood(df, alpha, beta, gamma):\n",
    "    \n",
    "    ll = 0\n",
    "    \n",
    "    for index, row in df.iterrows():\n",
    "        home_lambda = alpha[row.HomeTeam] * beta[row.AwayTeam] * gamma\n",
    "        away_lambda = alpha[row.AwayTeam] * beta[row.HomeTeam]\n",
    "        \n",
    "        ll += row.FTHG * np.log(home_lambda) - home_lambda - np.log(factorial(row.FTHG))\n",
    "        ll += row.FTAG * np.log(away_lambda) - away_lambda - np.log(factorial(row.FTAG))\n",
    "        \n",
    "    return ll"
   ]
  },
  {
   "cell_type": "code",
   "execution_count": 4,
   "metadata": {
    "ExecuteTime": {
     "end_time": "2020-02-17T12:21:16.751062Z",
     "start_time": "2020-02-17T12:21:16.742060Z"
    }
   },
   "outputs": [],
   "source": [
    "# Function to calculate home/away scores probability\n",
    "# ----------------------------------------------------------------------------------------------------------------------------\n",
    "\n",
    "def score_probability(home, away, hg, ag, alpha, beta, gamma):\n",
    "    \n",
    "    home_lambda = alpha[home] * beta[away] * gamma\n",
    "    away_lambda = alpha[away] * beta[home]\n",
    "    \n",
    "    hg_prob = home_lambda**hg * np.exp(-home_lambda) / factorial(hg)\n",
    "    ag_prob = away_lambda**ag * np.exp(-away_lambda) / factorial(ag)\n",
    "    \n",
    "    return hg_prob*ag_prob"
   ]
  },
  {
   "cell_type": "code",
   "execution_count": 5,
   "metadata": {
    "ExecuteTime": {
     "end_time": "2020-02-17T12:21:16.764065Z",
     "start_time": "2020-02-17T12:21:16.757061Z"
    }
   },
   "outputs": [],
   "source": [
    "# Predict game outcome using poisson distribution\n",
    "# ----------------------------------------------------------------------------------------------------------------------------\n",
    "\n",
    "def predict_game(home, away, alpha, beta, gamma):\n",
    "    \n",
    "    return np.random.poisson(alpha[home]*beta[away]*gamma), np.random.poisson(alpha[away]*beta[home])\n"
   ]
  },
  {
   "cell_type": "code",
   "execution_count": 6,
   "metadata": {
    "ExecuteTime": {
     "end_time": "2020-02-17T12:21:16.777060Z",
     "start_time": "2020-02-17T12:21:16.769071Z"
    }
   },
   "outputs": [],
   "source": [
    "# Function to Compute points \n",
    "# ----------------------------------------------------------------------------------------------------------------------------\n",
    "\n",
    "def compute_points(df):\n",
    "    \n",
    "    points = dict(zip(df.HomeTeam.unique(), [0]*len(df.HomeTeam.unique())))\n",
    "    \n",
    "    for index, row in df.iterrows():\n",
    "        if row.FTHG > row.FTAG:\n",
    "            points[row.HomeTeam] += 3\n",
    "        elif row.FTHG == row.FTAG:\n",
    "            points[row.HomeTeam] += 1\n",
    "            points[row.AwayTeam] += 1\n",
    "        else:\n",
    "            points[row.AwayTeam] += 3\n",
    "            \n",
    "    return points"
   ]
  },
  {
   "cell_type": "code",
   "execution_count": 7,
   "metadata": {
    "ExecuteTime": {
     "end_time": "2020-02-17T12:21:23.307428Z",
     "start_time": "2020-02-17T12:21:16.780061Z"
    }
   },
   "outputs": [],
   "source": [
    "# Load data and fit model\n",
    "# ----------------------------------------------------------------------------------------------------------------------------\n",
    "\n",
    "df_raw = pd.read_csv('data\\PremierLeague_2019_20.csv')\n",
    "\n",
    "model = optimise_params(df_raw)\n",
    "ll = log_likelihood(df_raw, *model)\n",
    "\n",
    "# Assert that Maximum Likelihood Estimation (MLE) has been found\n",
    "for team in df_raw.HomeTeam.unique():\n",
    "    \n",
    "    for i in [0,1]:\n",
    "        model[i][team] += 0.01\n",
    "        assert(log_likelihood(df_raw, *model) < ll)\n",
    "        model[i][team] -= 0.02\n",
    "        assert(log_likelihood(df_raw, *model) < ll)\n",
    "        model[i][team] += 0.01\n",
    "    \n",
    "# Assert scores sum to 1\n",
    "assert(np.isclose(sum([score_probability('Chelsea', 'Man United', hg, ag, *model)\n",
    "            for hg, ag in cart_product(range(100), range(100))]),1))"
   ]
  },
  {
   "cell_type": "code",
   "execution_count": 8,
   "metadata": {
    "ExecuteTime": {
     "end_time": "2020-02-17T12:21:23.319302Z",
     "start_time": "2020-02-17T12:21:23.310301Z"
    }
   },
   "outputs": [
    {
     "data": {
      "text/plain": [
       "array(['Liverpool', 'West Ham', 'Bournemouth', 'Burnley',\n",
       "       'Crystal Palace', 'Watford', 'Tottenham', 'Leicester', 'Newcastle',\n",
       "       'Man United', 'Arsenal', 'Aston Villa', 'Brighton', 'Everton',\n",
       "       'Norwich', 'Southampton', 'Man City', 'Sheffield United',\n",
       "       'Chelsea', 'Wolves'], dtype=object)"
      ]
     },
     "execution_count": 8,
     "metadata": {},
     "output_type": "execute_result"
    }
   ],
   "source": [
    "df_raw.HomeTeam.unique()"
   ]
  },
  {
   "cell_type": "code",
   "execution_count": 9,
   "metadata": {
    "ExecuteTime": {
     "end_time": "2020-02-17T12:21:23.624301Z",
     "start_time": "2020-02-17T12:21:23.336301Z"
    }
   },
   "outputs": [
    {
     "name": "stdout",
     "output_type": "stream",
     "text": [
      "SUMMING THE PROBABILITIES:\n",
      "--------------------------------------------\n",
      "42.96% == Chelsea (Home) win probability\n",
      "24.63% == Draw probability\n",
      "32.41% == Man United (Away) win probability\n",
      "--------------------------------------------\n"
     ]
    },
    {
     "data": {
      "image/png": "[encoded data removed]",
      "text/plain": [
       "<Figure size 432x288 with 1 Axes>"
      ]
     },
     "metadata": {
      "needs_background": "light"
     },
     "output_type": "display_data"
    }
   ],
   "source": [
    "# Predict a match outcome\n",
    "# ----------------------------------------------------------------------------------------------------------------------------\n",
    "\n",
    "home = 'Chelsea'\n",
    "away = 'Man United'\n",
    "max_goals = 50\n",
    "\n",
    "score_probs = np.zeros((max_goals, max_goals))\n",
    "\n",
    "for hg, ag in cart_product(range(max_goals), range(max_goals)):\n",
    "    \n",
    "    score_probs[hg, ag] = score_probability(home, away, hg, ag, *model)\n",
    "\n",
    "# Plot probabilities matrix\n",
    "plt.figure()\n",
    "\n",
    "# Compute W,L,D probs\n",
    "home_win = 0\n",
    "away_win = 0\n",
    "\n",
    "for hg, ag in cart_product(range(max_goals), range(max_goals)):\n",
    "    \n",
    "    if hg > ag:\n",
    "        home_win += score_probs[hg, ag]\n",
    "    elif hg < ag:\n",
    "        away_win += score_probs[hg, ag]\n",
    "\n",
    "print('SUMMING THE PROBABILITIES:\\n--------------------------------------------')        \n",
    "print(f'{round(home_win*100,2)}% == {home} (Home) win probability')\n",
    "print(f'{round(score_probs.diagonal().sum()*100,2)}% == Draw probability')\n",
    "print(f'{round(away_win*100,2)}% == {away} (Away) win probability\\n--------------------------------------------')\n",
    "\n",
    "# Plot\n",
    "ax = sns.heatmap(score_probs[:6,:6], annot=True, fmt='.3f', cbar=False)\n",
    "ax.set_xlabel(home + ' Goals')\n",
    "ax.set_ylabel(away + ' Goals')\n",
    "ax.xaxis.set_label_position('top') \n",
    "ax.xaxis.tick_top()"
   ]
  },
  {
   "cell_type": "code",
   "execution_count": 10,
   "metadata": {
    "ExecuteTime": {
     "end_time": "2020-02-17T12:21:29.653250Z",
     "start_time": "2020-02-17T12:21:23.626299Z"
    }
   },
   "outputs": [
    {
     "name": "stdout",
     "output_type": "stream",
     "text": [
      "                  Winner    CL  Europe  Relegated\n",
      "Liverpool            1.0  1.00    1.00       0.00\n",
      "Man City             0.0  1.00    1.00       0.00\n",
      "Leicester            0.0  1.00    1.00       0.00\n",
      "Chelsea              0.0  0.50    0.75       0.00\n",
      "Tottenham            0.0  0.28    0.56       0.00\n",
      "Sheffield United     0.0  0.07    0.23       0.00\n",
      "Everton              0.0  0.00    0.03       0.00\n",
      "Wolves               0.0  0.09    0.18       0.00\n",
      "Man United           0.0  0.05    0.17       0.00\n",
      "Burnley              0.0  0.00    0.00       0.00\n",
      "Arsenal              0.0  0.01    0.08       0.00\n",
      "Newcastle            0.0  0.00    0.00       0.02\n",
      "Southampton          0.0  0.00    0.00       0.00\n",
      "Crystal Palace       0.0  0.00    0.00       0.08\n",
      "Brighton             0.0  0.00    0.00       0.12\n",
      "Bournemouth          0.0  0.00    0.00       0.51\n",
      "Aston Villa          0.0  0.00    0.00       0.46\n",
      "West Ham             0.0  0.00    0.00       0.29\n",
      "Watford              0.0  0.00    0.00       0.56\n",
      "Norwich              0.0  0.00    0.00       0.96\n"
     ]
    }
   ],
   "source": [
    "# Simulating the results of the remaining fixtures of the season\n",
    "# ----------------------------------------------------------------------------------------------------------------------------\n",
    "# -  we obtain the following probabilities for teams winning the league, qualifying for the Champions league, \n",
    "#    qualifying for a European competition and getting relegated.\n",
    "\n",
    "teams = df_raw.HomeTeam.unique()\n",
    "\n",
    "matches = list(filter(lambda x: x[0] != x[1], cart_product(teams, teams)))\n",
    "played = list(zip(df_raw.HomeTeam, df_raw.AwayTeam))\n",
    "to_play = list(filter(lambda x: x not in played, matches))   \n",
    "\n",
    "# Perform Monte-Carlo simulation\n",
    "\n",
    "N = 100\n",
    "points = compute_points(df_raw)\n",
    "sorted_teams = sorted(teams, key=lambda x: points[x], reverse=True)\n",
    "counts = pd.DataFrame(0, columns=['Winner', 'CL', 'Europe', 'Relegated'], index=sorted_teams)\n",
    "mc_margin = []\n",
    "\n",
    "for i in range(N):\n",
    "    data = []\n",
    "    \n",
    "    for home, away in to_play:\n",
    "        hg, ag = predict_game(home, away, *model)\n",
    "        data.append([home, away, hg, ag])\n",
    "        \n",
    "    new_results = pd.DataFrame(data, columns=['HomeTeam', 'AwayTeam', 'FTHG', 'FTAG'])\n",
    "    \n",
    "    points = compute_points(df_raw.append(new_results, sort=True))\n",
    "    ranking = sorted(points, key=lambda x: points[x], reverse=True)\n",
    "    \n",
    "    counts.Winner[ranking[0]] += 1\n",
    "    counts.CL[ranking[:4]] += 1\n",
    "    counts.Europe[ranking[:5]] +=1\n",
    "    counts.Relegated[ranking[-3:]] += 1\n",
    "    \n",
    "print(counts/N)\n"
   ]
  },
  {
   "cell_type": "code",
   "execution_count": 11,
   "metadata": {
    "ExecuteTime": {
     "end_time": "2020-02-17T12:21:29.676221Z",
     "start_time": "2020-02-17T12:21:29.655221Z"
    }
   },
   "outputs": [
    {
     "data": {
      "text/html": [
       "<div>\n",
       "<style scoped>\n",
       "    .dataframe tbody tr th:only-of-type {\n",
       "        vertical-align: middle;\n",
       "    }\n",
       "\n",
       "    .dataframe tbody tr th {\n",
       "        vertical-align: top;\n",
       "    }\n",
       "\n",
       "    .dataframe thead th {\n",
       "        text-align: right;\n",
       "    }\n",
       "</style>\n",
       "<table border=\"1\" class=\"dataframe\">\n",
       "  <thead>\n",
       "    <tr style=\"text-align: right;\">\n",
       "      <th></th>\n",
       "      <th>HomeTeam</th>\n",
       "      <th>AwayTeam</th>\n",
       "      <th>FTHG</th>\n",
       "      <th>FTAG</th>\n",
       "    </tr>\n",
       "  </thead>\n",
       "  <tbody>\n",
       "    <tr>\n",
       "      <th>109</th>\n",
       "      <td>Chelsea</td>\n",
       "      <td>Watford</td>\n",
       "      <td>4</td>\n",
       "      <td>0</td>\n",
       "    </tr>\n",
       "    <tr>\n",
       "      <th>110</th>\n",
       "      <td>Chelsea</td>\n",
       "      <td>Tottenham</td>\n",
       "      <td>0</td>\n",
       "      <td>2</td>\n",
       "    </tr>\n",
       "    <tr>\n",
       "      <th>111</th>\n",
       "      <td>Chelsea</td>\n",
       "      <td>Man United</td>\n",
       "      <td>0</td>\n",
       "      <td>4</td>\n",
       "    </tr>\n",
       "    <tr>\n",
       "      <th>112</th>\n",
       "      <td>Chelsea</td>\n",
       "      <td>Everton</td>\n",
       "      <td>1</td>\n",
       "      <td>1</td>\n",
       "    </tr>\n",
       "    <tr>\n",
       "      <th>113</th>\n",
       "      <td>Chelsea</td>\n",
       "      <td>Norwich</td>\n",
       "      <td>1</td>\n",
       "      <td>3</td>\n",
       "    </tr>\n",
       "    <tr>\n",
       "      <th>114</th>\n",
       "      <td>Chelsea</td>\n",
       "      <td>Man City</td>\n",
       "      <td>1</td>\n",
       "      <td>2</td>\n",
       "    </tr>\n",
       "    <tr>\n",
       "      <th>115</th>\n",
       "      <td>Chelsea</td>\n",
       "      <td>Wolves</td>\n",
       "      <td>2</td>\n",
       "      <td>2</td>\n",
       "    </tr>\n",
       "  </tbody>\n",
       "</table>\n",
       "</div>"
      ],
      "text/plain": [
       "    HomeTeam    AwayTeam  FTHG  FTAG\n",
       "109  Chelsea     Watford     4     0\n",
       "110  Chelsea   Tottenham     0     2\n",
       "111  Chelsea  Man United     0     4\n",
       "112  Chelsea     Everton     1     1\n",
       "113  Chelsea     Norwich     1     3\n",
       "114  Chelsea    Man City     1     2\n",
       "115  Chelsea      Wolves     2     2"
      ]
     },
     "execution_count": 11,
     "metadata": {},
     "output_type": "execute_result"
    }
   ],
   "source": [
    "new_results[new_results['HomeTeam'] == 'Chelsea']"
   ]
  },
  {
   "cell_type": "code",
   "execution_count": null,
   "metadata": {},
   "outputs": [],
   "source": []
  }
 ],
 "metadata": {
  "kernelspec": {
   "display_name": "Python 3",
   "language": "python",
   "name": "python3"
  },
  "language_info": {
   "codemirror_mode": {
    "name": "ipython",
    "version": 3
   },
   "file_extension": ".py",
   "mimetype": "text/x-python",
   "name": "python",
   "nbconvert_exporter": "python",
   "pygments_lexer": "ipython3",
   "version": "3.7.4"
  },
  "varInspector": {
   "cols": {
    "lenName": 16,
    "lenType": 16,
    "lenVar": 40
   },
   "kernels_config": {
    "python": {
     "delete_cmd_postfix": "",
     "delete_cmd_prefix": "del ",
     "library": "var_list.py",
     "varRefreshCmd": "print(var_dic_list())"
    },
    "r": {
     "delete_cmd_postfix": ") ",
     "delete_cmd_prefix": "rm(",
     "library": "var_list.r",
     "varRefreshCmd": "cat(var_dic_list()) "
    }
   },
   "types_to_exclude": [
    "module",
    "function",
    "builtin_function_or_method",
    "instance",
    "_Feature"
   ],
   "window_display": false
  }
 },
 "nbformat": 4,
 "nbformat_minor": 2
}
